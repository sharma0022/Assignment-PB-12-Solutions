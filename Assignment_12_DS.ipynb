{
 "cells": [
  {
   "cell_type": "markdown",
   "id": "846c1113-104d-4683-b4bf-ca257f2092bf",
   "metadata": {},
   "source": [
    "# Assignment 12 Solution"
   ]
  },
  {
   "cell_type": "raw",
   "id": "812da5c1-0076-4b24-854a-72f136e5d48d",
   "metadata": {},
   "source": [
    "Q.1. In what modes should the PdfFileReader() and PdfFileWriter() File objects will be opened?\n",
    "\n",
    "Ans: For PdfFileReader() file objects should be opened in rb -> read binary mode, Whereas for PdfFileWriter() file      objects should be opened in wb -> write binary mode."
   ]
  },
  {
   "cell_type": "markdown",
   "id": "55675b20-239c-4764-927b-76220090e3cf",
   "metadata": {},
   "source": [
    "Q.2. From a PdfFileReader object, how do you get a Page object for page 5?\n",
    "\n",
    "Ans: PdfFileReader class provides a method called getPage(page_no) to get a page object."
   ]
  },
  {
   "cell_type": "raw",
   "id": "b3fc88bb-be0e-4bf2-a784-2985f7bd78e3",
   "metadata": {},
   "source": [
    "# Example Code:\n",
    "from PyPDF2 import PdfFileReader\n",
    "pdf_reader = PdfFileReader(file_path)\n",
    "for page in pdf_reader.getNumPages():\n",
    "    pdf_reader.getPage(page)"
   ]
  },
  {
   "cell_type": "raw",
   "id": "4057298e-ca88-4e16-bd2e-4bef3b099ac2",
   "metadata": {},
   "source": [
    "Q.3. What PdfFileReader variable stores the number of pages in the PDF document?\n",
    "\n",
    "Ans: getNumPages() method of PdfFileReader class stores the no pages in a PDF document"
   ]
  },
  {
   "cell_type": "markdown",
   "id": "c36835bd-ec1a-4f6b-8263-caca8b341eb3",
   "metadata": {},
   "source": [
    "#Example Code:\n",
    "from PyPDF2 import PdfFileReader\n",
    "pdf_reader = PdfFileReader(file_path)\n",
    "print(pdf_reader.getNumPages()) # Prints the no of pages in a input document"
   ]
  },
  {
   "cell_type": "raw",
   "id": "1c1bf5bc-7c7e-4c63-b8e2-f023e5983af4",
   "metadata": {},
   "source": [
    "Q.4. If a PdfFileReader object’s PDF is encrypted with the password swordfish, what must you do before you can          obtain Page objects from it?\n",
    "\n",
    "Ans: If a PdfFileReader object’s PDF is encrypted with the password swordfish and you're not aware of it. first          read the Pdf using the PdfFileReader Class. PdfFileReader class provides a attribute called isEncrypted to          check whether a pdf is encrypted or not. the method returns true if a pdf is encrypted and vice versa.\n",
    "     if pdf is encrypted use the decrypt() method provided by PdfFileReader class first then try to read the            contents/pages of the pdf, else PyPDF2 will raise the following error PyPDF2.utils.PdfReadError: file has not      been decrypted"
   ]
  },
  {
   "cell_type": "raw",
   "id": "0c4a804b-57d1-4786-8013-9a397c815b5d",
   "metadata": {},
   "source": [
    "#Example Code:\n",
    "from PyPDF2 import PdfFileReader\n",
    "pdf_reader = PdfFileReader(file_path)\n",
    "if pdf_reader.isEncrypted: # to check whether the pdf is encrypted or not\n",
    "    pdf_reader.decrypt(\"swordfish\")\n",
    "for page in pdf_reader.pages:\n",
    "    print(page.extractText()) # to print the text data of a page from pdf"
   ]
  },
  {
   "cell_type": "raw",
   "id": "d88666c1-50e3-4d29-bd33-5fda78ff2159",
   "metadata": {},
   "source": [
    "Q.5. What methods do you use to rotate a page?"
   ]
  },
  {
   "cell_type": "markdown",
   "id": "27dc59d4-5626-41e9-82d8-4a6b75819d57",
   "metadata": {},
   "source": [
    "Ans:  PyPDF2 Package provides 2 methods to rotate a page:\n",
    "\n",
    "      1. rotateClockWise() -> For Clockwise rotation\n",
    "      2. rotateCounterClockWise() -> For Counter Clockwise rotation\n",
    "      \n",
    "      The PyPDF2 package only allows you to rotate a page in increments of 90 degrees. You will receive an AssertionError otherwise."
   ]
  },
  {
   "cell_type": "raw",
   "id": "fd6db6ad-b391-44c2-8f49-49a1838d189d",
   "metadata": {},
   "source": [
    "Q.6. What is the difference between a Run object and a Paragraph object?\n",
    "\n",
    "Ans: A Run object and a Paragraph object are both used to represent text in a Microsoft Word document, but they          have different purposes and properties.\n",
    "\n",
    "     A Run object represents a contiguous sequence of characters with the same formatting. It represents a single        run of text, and it can have properties such as font type, size, color, and bold/italic formatting. A Run          object can be used to apply a specific formatting to a small portion of text within a Paragraph.\n",
    "\n",
    "     A Paragraph object, on the other hand, represents a paragraph of text in a Microsoft Word document. It can          contain multiple Run objects, each with its own formatting. A Paragraph object can have properties such as          alignment, spacing, and indentation, and can be used to apply formatting to an entire paragraph of text.\n",
    "\n",
    "     In short, a Run object is a smaller unit of text with a specific formatting, while a Paragraph object is a          larger unit of text that contains multiple Runs and has formatting that applies to the entire paragraph.\n",
    "\n",
    "     To summarize,\n",
    "\n",
    "     Run: a sequence of characters with the same formatting, used to apply a specific formatting to a small portion      of text.\n",
    "\n",
    "     Paragraph: a block of text in a word document, contains multiple Runs, it has formatting that applies to the        entire paragraph."
   ]
  },
  {
   "cell_type": "raw",
   "id": "5d4b0810-afd4-4e04-9123-67ccdfceab73",
   "metadata": {},
   "source": [
    "Q.7. How do you obtain a list of Paragraph objects for a Document object that’s stored in a variable named doc?"
   ]
  },
  {
   "cell_type": "code",
   "execution_count": null,
   "id": "55f02056-c1e0-4030-b10c-88cebe81d616",
   "metadata": {},
   "outputs": [],
   "source": [
    "Ans: # Example Program\n",
    "from docx import Document\n",
    "doc = Document(\"sample_file.docx\") # Path of the Docx file\n",
    "print(doc.paragraphs) # Prints the list of Paragraph objects for a Document\n",
    "for paragraph in doc.paragraphs:\n",
    "    print(paragraph.text) # Prints the text in the paragraph\n"
   ]
  },
  {
   "cell_type": "raw",
   "id": "b7d062fc-766c-42d0-9bb7-659af51877de",
   "metadata": {},
   "source": [
    "Q.8. What type of object has bold, underline, italic, strike, and outline variables?\n",
    "\n",
    "Ans: Run object has bold, underline, italic, strike, and outline variables. The text in a Word document is              more than just a string. It has font, size, color, and other styling information associated with it.\n",
    "\n",
    "     A style in Word is a collection of these attributes. A Run object is a contiguous run of text with the same        style. A new Run object is needed whenever the text style changes."
   ]
  },
  {
   "cell_type": "raw",
   "id": "801bcad5-815b-4a95-ab18-2071a6554596",
   "metadata": {},
   "source": [
    "Q.9. What is the difference between False, True, and None for the bold variable?\n",
    "\n",
    "Ans: False and True are the two Boolean values in Python, representing the concepts of \"truth\" and \"falsehood\",          respectively. None is a special value in Python that represents the absence of a value or a null value. It is      an object of its own datatype, NoneType.\n",
    "\n",
    "     In the context of the variable 'bold', if it is assigned the value of False, this would indicate that the text      it is associated with should not be displayed in bold. If it is assigned the value of True, this would              indicate that the text should be displayed in bold. If it is assigned the value of None, this would indicate        that the variable does not have a value assigned to it, and it would typically be interpreted as a default          value or an uninitialized variable. "
   ]
  },
  {
   "cell_type": "code",
   "execution_count": 7,
   "id": "92557c1f-595e-4490-a0b6-6ad927b9f0d4",
   "metadata": {},
   "outputs": [],
   "source": [
    "bold = True  # Style Set to Bold\n",
    "bold = False # Style Not Set to Bold\n",
    "bold = None # Style is Not Applicable"
   ]
  },
  {
   "cell_type": "raw",
   "id": "02b7f638-a94d-47e9-9f79-8982b8f92418",
   "metadata": {},
   "source": [
    "Q.10. How do you create a Document object for a new Word document?"
   ]
  },
  {
   "cell_type": "code",
   "execution_count": null,
   "id": "fbb0883e-2a15-4a5e-90c2-32198c548359",
   "metadata": {},
   "outputs": [],
   "source": [
    "Ans: \n",
    "# Example Program\n",
    "from docx import Document\n",
    "document = Document()\n",
    "document.add_paragraph(\"iNeuron Full Stack DataScience Course\")\n",
    "document.save('mydocument.docx')"
   ]
  },
  {
   "cell_type": "raw",
   "id": "f8b9d2c9-2ecf-431c-87ad-708e23d4f670",
   "metadata": {},
   "source": [
    "Q.11. How do you add a paragraph with the text 'Hello, there!' to a Document object stored in a variable named doc?"
   ]
  },
  {
   "cell_type": "code",
   "execution_count": null,
   "id": "bed889b3-f4de-442b-b8c3-1d32cefced9e",
   "metadata": {},
   "outputs": [],
   "source": [
    "Ans:\n",
    "# Example Program\n",
    "from docx import Document\n",
    "doc = Document()\n",
    "doc.add_paragraph('Hello, there!')\n",
    "doc.save('hello.docx')"
   ]
  },
  {
   "cell_type": "raw",
   "id": "89f65bfc-e606-4081-afb4-7c6182373d06",
   "metadata": {},
   "source": [
    "Q.12. What integers represent the levels of headings available in Word documents?\n",
    "\n",
    "Ans:  headings are used to organize and structure the content of a document. The different levels of headings             available in Word documents are represented by integers from 1 to 9.\n",
    "\n",
    "      . Level 1 headings are the highest level headings and are typically used for the main sections of a                   document. They are usually represented by the largest font size.\n",
    "      . Level 2 headings are used for sub-sections of the main sections and have a slightly smaller font size than         level 1 headings.\n",
    "      . Level 3 headings are used for sub-sections of the level 2 headings and have a smaller font size than \n",
    "        level 2 headings.\n",
    "        \n",
    "      Similarly, levels 4 through 9 are used to represent sub-sections of the previous level."
   ]
  },
  {
   "cell_type": "raw",
   "id": "6b4d33d7-f903-47e3-82f4-b8c9614ac332",
   "metadata": {},
   "source": []
  },
  {
   "cell_type": "code",
   "execution_count": null,
   "id": "144985e3-868d-4fd8-a022-22a6742c76ae",
   "metadata": {},
   "outputs": [],
   "source": []
  }
 ],
 "metadata": {
  "kernelspec": {
   "display_name": "Python 3 (ipykernel)",
   "language": "python",
   "name": "python3"
  },
  "language_info": {
   "codemirror_mode": {
    "name": "ipython",
    "version": 3
   },
   "file_extension": ".py",
   "mimetype": "text/x-python",
   "name": "python",
   "nbconvert_exporter": "python",
   "pygments_lexer": "ipython3",
   "version": "3.9.12"
  }
 },
 "nbformat": 4,
 "nbformat_minor": 5
}
